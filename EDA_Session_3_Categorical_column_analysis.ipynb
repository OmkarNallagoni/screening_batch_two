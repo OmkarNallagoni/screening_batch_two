{
 "cells": [
  {
   "cell_type": "code",
   "execution_count": 1,
   "id": "d5023123-3ab3-4880-87eb-6b30e7dbec89",
   "metadata": {},
   "outputs": [],
   "source": [
    "# Import the packages\n",
    "# read the data\n",
    "# convert cat and num columns using select data types\n",
    "import numpy as np\n",
    "import pandas as pd\n",
    "import matplotlib.pyplot as plt\n",
    "import seaborn as sns"
   ]
  },
  {
   "cell_type": "code",
   "execution_count": 2,
   "id": "7e62c62d-3dc3-459b-982f-85b5f0a3c1e6",
   "metadata": {},
   "outputs": [
    {
     "data": {
      "text/html": [
       "<div>\n",
       "<style scoped>\n",
       "    .dataframe tbody tr th:only-of-type {\n",
       "        vertical-align: middle;\n",
       "    }\n",
       "\n",
       "    .dataframe tbody tr th {\n",
       "        vertical-align: top;\n",
       "    }\n",
       "\n",
       "    .dataframe thead th {\n",
       "        text-align: right;\n",
       "    }\n",
       "</style>\n",
       "<table border=\"1\" class=\"dataframe\">\n",
       "  <thead>\n",
       "    <tr style=\"text-align: right;\">\n",
       "      <th></th>\n",
       "      <th>case_id</th>\n",
       "      <th>continent</th>\n",
       "      <th>education_of_employee</th>\n",
       "      <th>has_job_experience</th>\n",
       "      <th>requires_job_training</th>\n",
       "      <th>no_of_employees</th>\n",
       "      <th>yr_of_estab</th>\n",
       "      <th>region_of_employment</th>\n",
       "      <th>prevailing_wage</th>\n",
       "      <th>unit_of_wage</th>\n",
       "      <th>full_time_position</th>\n",
       "      <th>case_status</th>\n",
       "    </tr>\n",
       "  </thead>\n",
       "  <tbody>\n",
       "    <tr>\n",
       "      <th>0</th>\n",
       "      <td>EZYV01</td>\n",
       "      <td>Asia</td>\n",
       "      <td>High School</td>\n",
       "      <td>N</td>\n",
       "      <td>N</td>\n",
       "      <td>14513</td>\n",
       "      <td>2007</td>\n",
       "      <td>West</td>\n",
       "      <td>592.2029</td>\n",
       "      <td>Hour</td>\n",
       "      <td>Y</td>\n",
       "      <td>Denied</td>\n",
       "    </tr>\n",
       "    <tr>\n",
       "      <th>1</th>\n",
       "      <td>EZYV02</td>\n",
       "      <td>Asia</td>\n",
       "      <td>Master's</td>\n",
       "      <td>Y</td>\n",
       "      <td>N</td>\n",
       "      <td>2412</td>\n",
       "      <td>2002</td>\n",
       "      <td>Northeast</td>\n",
       "      <td>83425.6500</td>\n",
       "      <td>Year</td>\n",
       "      <td>Y</td>\n",
       "      <td>Certified</td>\n",
       "    </tr>\n",
       "    <tr>\n",
       "      <th>2</th>\n",
       "      <td>EZYV03</td>\n",
       "      <td>Asia</td>\n",
       "      <td>Bachelor's</td>\n",
       "      <td>N</td>\n",
       "      <td>Y</td>\n",
       "      <td>44444</td>\n",
       "      <td>2008</td>\n",
       "      <td>West</td>\n",
       "      <td>122996.8600</td>\n",
       "      <td>Year</td>\n",
       "      <td>Y</td>\n",
       "      <td>Denied</td>\n",
       "    </tr>\n",
       "    <tr>\n",
       "      <th>3</th>\n",
       "      <td>EZYV04</td>\n",
       "      <td>Asia</td>\n",
       "      <td>Bachelor's</td>\n",
       "      <td>N</td>\n",
       "      <td>N</td>\n",
       "      <td>98</td>\n",
       "      <td>1897</td>\n",
       "      <td>West</td>\n",
       "      <td>83434.0300</td>\n",
       "      <td>Year</td>\n",
       "      <td>Y</td>\n",
       "      <td>Denied</td>\n",
       "    </tr>\n",
       "    <tr>\n",
       "      <th>4</th>\n",
       "      <td>EZYV05</td>\n",
       "      <td>Africa</td>\n",
       "      <td>Master's</td>\n",
       "      <td>Y</td>\n",
       "      <td>N</td>\n",
       "      <td>1082</td>\n",
       "      <td>2005</td>\n",
       "      <td>South</td>\n",
       "      <td>149907.3900</td>\n",
       "      <td>Year</td>\n",
       "      <td>Y</td>\n",
       "      <td>Certified</td>\n",
       "    </tr>\n",
       "    <tr>\n",
       "      <th>...</th>\n",
       "      <td>...</td>\n",
       "      <td>...</td>\n",
       "      <td>...</td>\n",
       "      <td>...</td>\n",
       "      <td>...</td>\n",
       "      <td>...</td>\n",
       "      <td>...</td>\n",
       "      <td>...</td>\n",
       "      <td>...</td>\n",
       "      <td>...</td>\n",
       "      <td>...</td>\n",
       "      <td>...</td>\n",
       "    </tr>\n",
       "    <tr>\n",
       "      <th>25475</th>\n",
       "      <td>EZYV25476</td>\n",
       "      <td>Asia</td>\n",
       "      <td>Bachelor's</td>\n",
       "      <td>Y</td>\n",
       "      <td>Y</td>\n",
       "      <td>2601</td>\n",
       "      <td>2008</td>\n",
       "      <td>South</td>\n",
       "      <td>77092.5700</td>\n",
       "      <td>Year</td>\n",
       "      <td>Y</td>\n",
       "      <td>Certified</td>\n",
       "    </tr>\n",
       "    <tr>\n",
       "      <th>25476</th>\n",
       "      <td>EZYV25477</td>\n",
       "      <td>Asia</td>\n",
       "      <td>High School</td>\n",
       "      <td>Y</td>\n",
       "      <td>N</td>\n",
       "      <td>3274</td>\n",
       "      <td>2006</td>\n",
       "      <td>Northeast</td>\n",
       "      <td>279174.7900</td>\n",
       "      <td>Year</td>\n",
       "      <td>Y</td>\n",
       "      <td>Certified</td>\n",
       "    </tr>\n",
       "    <tr>\n",
       "      <th>25477</th>\n",
       "      <td>EZYV25478</td>\n",
       "      <td>Asia</td>\n",
       "      <td>Master's</td>\n",
       "      <td>Y</td>\n",
       "      <td>N</td>\n",
       "      <td>1121</td>\n",
       "      <td>1910</td>\n",
       "      <td>South</td>\n",
       "      <td>146298.8500</td>\n",
       "      <td>Year</td>\n",
       "      <td>N</td>\n",
       "      <td>Certified</td>\n",
       "    </tr>\n",
       "    <tr>\n",
       "      <th>25478</th>\n",
       "      <td>EZYV25479</td>\n",
       "      <td>Asia</td>\n",
       "      <td>Master's</td>\n",
       "      <td>Y</td>\n",
       "      <td>Y</td>\n",
       "      <td>1918</td>\n",
       "      <td>1887</td>\n",
       "      <td>West</td>\n",
       "      <td>86154.7700</td>\n",
       "      <td>Year</td>\n",
       "      <td>Y</td>\n",
       "      <td>Certified</td>\n",
       "    </tr>\n",
       "    <tr>\n",
       "      <th>25479</th>\n",
       "      <td>EZYV25480</td>\n",
       "      <td>Asia</td>\n",
       "      <td>Bachelor's</td>\n",
       "      <td>Y</td>\n",
       "      <td>N</td>\n",
       "      <td>3195</td>\n",
       "      <td>1960</td>\n",
       "      <td>Midwest</td>\n",
       "      <td>70876.9100</td>\n",
       "      <td>Year</td>\n",
       "      <td>Y</td>\n",
       "      <td>Certified</td>\n",
       "    </tr>\n",
       "  </tbody>\n",
       "</table>\n",
       "<p>25480 rows × 12 columns</p>\n",
       "</div>"
      ],
      "text/plain": [
       "         case_id continent education_of_employee has_job_experience  \\\n",
       "0         EZYV01      Asia           High School                  N   \n",
       "1         EZYV02      Asia              Master's                  Y   \n",
       "2         EZYV03      Asia            Bachelor's                  N   \n",
       "3         EZYV04      Asia            Bachelor's                  N   \n",
       "4         EZYV05    Africa              Master's                  Y   \n",
       "...          ...       ...                   ...                ...   \n",
       "25475  EZYV25476      Asia            Bachelor's                  Y   \n",
       "25476  EZYV25477      Asia           High School                  Y   \n",
       "25477  EZYV25478      Asia              Master's                  Y   \n",
       "25478  EZYV25479      Asia              Master's                  Y   \n",
       "25479  EZYV25480      Asia            Bachelor's                  Y   \n",
       "\n",
       "      requires_job_training  no_of_employees  yr_of_estab  \\\n",
       "0                         N            14513         2007   \n",
       "1                         N             2412         2002   \n",
       "2                         Y            44444         2008   \n",
       "3                         N               98         1897   \n",
       "4                         N             1082         2005   \n",
       "...                     ...              ...          ...   \n",
       "25475                     Y             2601         2008   \n",
       "25476                     N             3274         2006   \n",
       "25477                     N             1121         1910   \n",
       "25478                     Y             1918         1887   \n",
       "25479                     N             3195         1960   \n",
       "\n",
       "      region_of_employment  prevailing_wage unit_of_wage full_time_position  \\\n",
       "0                     West         592.2029         Hour                  Y   \n",
       "1                Northeast       83425.6500         Year                  Y   \n",
       "2                     West      122996.8600         Year                  Y   \n",
       "3                     West       83434.0300         Year                  Y   \n",
       "4                    South      149907.3900         Year                  Y   \n",
       "...                    ...              ...          ...                ...   \n",
       "25475                South       77092.5700         Year                  Y   \n",
       "25476            Northeast      279174.7900         Year                  Y   \n",
       "25477                South      146298.8500         Year                  N   \n",
       "25478                 West       86154.7700         Year                  Y   \n",
       "25479              Midwest       70876.9100         Year                  Y   \n",
       "\n",
       "      case_status  \n",
       "0          Denied  \n",
       "1       Certified  \n",
       "2          Denied  \n",
       "3          Denied  \n",
       "4       Certified  \n",
       "...           ...  \n",
       "25475   Certified  \n",
       "25476   Certified  \n",
       "25477   Certified  \n",
       "25478   Certified  \n",
       "25479   Certified  \n",
       "\n",
       "[25480 rows x 12 columns]"
      ]
     },
     "execution_count": 2,
     "metadata": {},
     "output_type": "execute_result"
    }
   ],
   "source": [
    "visa_df=pd.read_csv('Visadataset.csv')\n",
    "visa_df"
   ]
  },
  {
   "cell_type": "code",
   "execution_count": 3,
   "id": "c0787a85-4031-4e45-a191-f5b2d5261734",
   "metadata": {},
   "outputs": [],
   "source": [
    "cat_cols=visa_df.select_dtypes(include='object').columns\n",
    "num_cols=visa_df.select_dtypes(exclude='object').columns\n"
   ]
  },
  {
   "cell_type": "code",
   "execution_count": 4,
   "id": "9f85a531-9f2f-4026-8dd5-8b752fd9de88",
   "metadata": {},
   "outputs": [
    {
     "data": {
      "text/plain": [
       "Index(['case_id', 'continent', 'education_of_employee', 'has_job_experience',\n",
       "       'requires_job_training', 'region_of_employment', 'unit_of_wage',\n",
       "       'full_time_position', 'case_status'],\n",
       "      dtype='object')"
      ]
     },
     "execution_count": 4,
     "metadata": {},
     "output_type": "execute_result"
    }
   ],
   "source": [
    "cat_cols"
   ]
  },
  {
   "cell_type": "code",
   "execution_count": 5,
   "id": "d90f91ee-e9eb-49e3-9fcc-70180207b486",
   "metadata": {},
   "outputs": [
    {
     "data": {
      "text/plain": [
       "Index(['no_of_employees', 'yr_of_estab', 'prevailing_wage'], dtype='object')"
      ]
     },
     "execution_count": 5,
     "metadata": {},
     "output_type": "execute_result"
    }
   ],
   "source": [
    "num_cols"
   ]
  },
  {
   "cell_type": "markdown",
   "id": "dd38262b-e7e9-48e9-bf4f-cc71db09b733",
   "metadata": {},
   "source": [
    "**How many ways retrive a column**\n",
    "\n",
    "- I want retrive a continet column"
   ]
  },
  {
   "cell_type": "code",
   "execution_count": null,
   "id": "7f9cda44-6b70-407a-887b-36d9942977ba",
   "metadata": {},
   "outputs": [],
   "source": [
    "visa_df['continent']  # Series\n",
    "visa_df[['continent']] # Df\n",
    "visa_df.iloc[:,1]    # Series\n",
    "visa_df.loc[:,'continent'] # Series\n",
    "visa_df.iloc[:,[1]] # DF\n",
    "visa_df.loc[:,['continent']] # DF\n",
    "visa_df.continent # Series"
   ]
  },
  {
   "cell_type": "markdown",
   "id": "7c1365de-4487-49be-82ef-8339d7f487d8",
   "metadata": {},
   "source": [
    "**unique**\n",
    "\n",
    "- read the continent column appy unique method\n",
    "\n",
    "- unique will give the continents lables which are repeating entire data "
   ]
  },
  {
   "cell_type": "code",
   "execution_count": 6,
   "id": "ece9f4ec-6ebf-4ef6-91ec-d7fcd1b7037a",
   "metadata": {},
   "outputs": [
    {
     "data": {
      "text/plain": [
       "array(['Asia', 'Africa', 'North America', 'Europe', 'South America',\n",
       "       'Oceania'], dtype=object)"
      ]
     },
     "execution_count": 6,
     "metadata": {},
     "output_type": "execute_result"
    }
   ],
   "source": [
    "visa_df['continent'].unique()"
   ]
  },
  {
   "cell_type": "code",
   "execution_count": null,
   "id": "fbd9b37f-f695-48dc-a155-56226c5d4af1",
   "metadata": {},
   "outputs": [],
   "source": [
    "# total data rows are 25480\n",
    "# continent has only 6 unique lables "
   ]
  },
  {
   "cell_type": "markdown",
   "id": "0e63934d-8eb6-40a0-a21c-3e01f2c5c3f8",
   "metadata": {},
   "source": [
    "**nunique**"
   ]
  },
  {
   "cell_type": "code",
   "execution_count": 7,
   "id": "a66b5aaf-4269-4488-bb52-8e0366acf216",
   "metadata": {},
   "outputs": [
    {
     "data": {
      "text/plain": [
       "6"
      ]
     },
     "execution_count": 7,
     "metadata": {},
     "output_type": "execute_result"
    }
   ],
   "source": [
    "visa_df['continent'].nunique()"
   ]
  },
  {
   "cell_type": "markdown",
   "id": "9cff7bef-e521-4ef6-ad4f-46af4691a01d",
   "metadata": {},
   "source": [
    "**task-1**\n",
    "\n",
    "- we know that only 6 lables are repeating in entire 25480 observations\n",
    "\n",
    "- now we want to know how many times **Asia** repeating\n",
    "\n",
    "- we alreday know that cat column can represnt using **frequeny table**\n",
    "\n",
    "- our main goal is to find the frequency table"
   ]
  },
  {
   "cell_type": "code",
   "execution_count": 12,
   "id": "970a6812-9d4a-498c-bf97-7484714fd069",
   "metadata": {},
   "outputs": [
    {
     "data": {
      "text/plain": [
       "16861"
      ]
     },
     "execution_count": 12,
     "metadata": {},
     "output_type": "execute_result"
    }
   ],
   "source": [
    "# step-1: read continent data\n",
    "# step-2: we want Asia so , the data equal to Asia\n",
    "visa_df['continent']\n",
    "con=visa_df['continent']=='Asia'\n",
    "visa_df[con]\n",
    "len(visa_df[con])"
   ]
  },
  {
   "cell_type": "code",
   "execution_count": 9,
   "id": "3b20a87d-f689-4347-a338-6e1d3827aa61",
   "metadata": {},
   "outputs": [
    {
     "data": {
      "text/plain": [
       "True"
      ]
     },
     "execution_count": 9,
     "metadata": {},
     "output_type": "execute_result"
    }
   ],
   "source": [
    "5==5"
   ]
  },
  {
   "cell_type": "code",
   "execution_count": null,
   "id": "7f52ffc0-dd10-451e-8346-4cfa22d369b6",
   "metadata": {},
   "outputs": [],
   "source": [
    "visa_df['continent']\n",
    "con=visa_df['continent']=='Asia'\n",
    "visa_df[con]\n",
    "len(visa_df[con])\n",
    "\n",
    "visa_df['continent']\n",
    "con=visa_df['continent']=='Asia'\n",
    "visa_df[con]\n",
    "len(visa_df[con])\n",
    "\n",
    "visa_df['continent']\n",
    "con=visa_df['continent']=='Asia'\n",
    "visa_df[con]\n",
    "len(visa_df[con])\n",
    "\n",
    "visa_df['continent']\n",
    "con=visa_df['continent']=='Asia'\n",
    "visa_df[con]\n",
    "len(visa_df[con])\n",
    "\n",
    "visa_df['continent']\n",
    "con=visa_df['continent']=='Asia'\n",
    "visa_df[con]\n",
    "len(visa_df[con])\n",
    "\n",
    "visa_df['continent']\n",
    "con=visa_df['continent']=='Asia'\n",
    "visa_df[con]\n",
    "len(visa_df[con])\n",
    "\n"
   ]
  },
  {
   "cell_type": "code",
   "execution_count": 14,
   "id": "4d6f6bb9-2839-4593-bdfa-4976707121b0",
   "metadata": {},
   "outputs": [
    {
     "name": "stdout",
     "output_type": "stream",
     "text": [
      "The number of applicants from Asia is : 16861\n",
      "The number of applicants from Africa is : 551\n",
      "The number of applicants from North America is : 3292\n",
      "The number of applicants from Europe is : 3732\n",
      "The number of applicants from South America is : 852\n",
      "The number of applicants from Oceania is : 192\n"
     ]
    }
   ],
   "source": [
    "cont_lables=visa_df['continent'].unique()\n",
    "for i in cont_lables:\n",
    "    visa_df['continent']\n",
    "    con=visa_df['continent']==i\n",
    "    visa_df[con]\n",
    "    count=len(visa_df[con])\n",
    "    print(f'The number of applicants from {i} is : {count}')"
   ]
  },
  {
   "cell_type": "code",
   "execution_count": 15,
   "id": "87ef80e6-bb76-42b9-a647-9179d86843f6",
   "metadata": {},
   "outputs": [],
   "source": [
    "cont_lables=visa_df['continent'].unique()\n",
    "count=[]\n",
    "for i in cont_lables:\n",
    "    visa_df['continent']\n",
    "    con=visa_df['continent']==i\n",
    "    visa_df[con]\n",
    "    count.append(len(visa_df[con]))"
   ]
  },
  {
   "cell_type": "code",
   "execution_count": 17,
   "id": "8b9c9f6a-27a9-4220-af12-66c498a136ac",
   "metadata": {},
   "outputs": [
    {
     "data": {
      "text/plain": [
       "([16861, 551, 3292, 3732, 852, 192],\n",
       " array(['Asia', 'Africa', 'North America', 'Europe', 'South America',\n",
       "        'Oceania'], dtype=object))"
      ]
     },
     "execution_count": 17,
     "metadata": {},
     "output_type": "execute_result"
    }
   ],
   "source": [
    "count,cont_lables"
   ]
  },
  {
   "cell_type": "code",
   "execution_count": 19,
   "id": "7bb4a688-3bce-4b4a-8c1d-fa076e0ae615",
   "metadata": {},
   "outputs": [
    {
     "data": {
      "text/html": [
       "<div>\n",
       "<style scoped>\n",
       "    .dataframe tbody tr th:only-of-type {\n",
       "        vertical-align: middle;\n",
       "    }\n",
       "\n",
       "    .dataframe tbody tr th {\n",
       "        vertical-align: top;\n",
       "    }\n",
       "\n",
       "    .dataframe thead th {\n",
       "        text-align: right;\n",
       "    }\n",
       "</style>\n",
       "<table border=\"1\" class=\"dataframe\">\n",
       "  <thead>\n",
       "    <tr style=\"text-align: right;\">\n",
       "      <th></th>\n",
       "      <th>Continent</th>\n",
       "      <th>Number of Applicants</th>\n",
       "    </tr>\n",
       "  </thead>\n",
       "  <tbody>\n",
       "    <tr>\n",
       "      <th>0</th>\n",
       "      <td>Asia</td>\n",
       "      <td>16861</td>\n",
       "    </tr>\n",
       "    <tr>\n",
       "      <th>1</th>\n",
       "      <td>Africa</td>\n",
       "      <td>551</td>\n",
       "    </tr>\n",
       "    <tr>\n",
       "      <th>2</th>\n",
       "      <td>North America</td>\n",
       "      <td>3292</td>\n",
       "    </tr>\n",
       "    <tr>\n",
       "      <th>3</th>\n",
       "      <td>Europe</td>\n",
       "      <td>3732</td>\n",
       "    </tr>\n",
       "    <tr>\n",
       "      <th>4</th>\n",
       "      <td>South America</td>\n",
       "      <td>852</td>\n",
       "    </tr>\n",
       "    <tr>\n",
       "      <th>5</th>\n",
       "      <td>Oceania</td>\n",
       "      <td>192</td>\n",
       "    </tr>\n",
       "  </tbody>\n",
       "</table>\n",
       "</div>"
      ],
      "text/plain": [
       "       Continent  Number of Applicants\n",
       "0           Asia                 16861\n",
       "1         Africa                   551\n",
       "2  North America                  3292\n",
       "3         Europe                  3732\n",
       "4  South America                   852\n",
       "5        Oceania                   192"
      ]
     },
     "execution_count": 19,
     "metadata": {},
     "output_type": "execute_result"
    }
   ],
   "source": [
    "pd.DataFrame(zip(cont_lables,count),\n",
    "            columns=['Continent','Number of Applicants'])"
   ]
  },
  {
   "cell_type": "code",
   "execution_count": 21,
   "id": "17accd5c-8bac-4eb3-b23c-5ee369da9a76",
   "metadata": {},
   "outputs": [
    {
     "data": {
      "text/plain": [
       "continent\n",
       "Asia             16861\n",
       "Europe            3732\n",
       "North America     3292\n",
       "South America      852\n",
       "Africa             551\n",
       "Oceania            192\n",
       "Name: count, dtype: int64"
      ]
     },
     "execution_count": 21,
     "metadata": {},
     "output_type": "execute_result"
    }
   ],
   "source": [
    "visa_df['continent'].value_counts()"
   ]
  },
  {
   "cell_type": "code",
   "execution_count": null,
   "id": "22139894-1ab5-46e3-b9f8-138773667e3b",
   "metadata": {},
   "outputs": [],
   "source": [
    "## No class tomorrow in the morning\n",
    "## Azure session in the eve we have at 5.30 offline & online\n",
    "## Do not miss the sessions\n",
    "## I will directly start the projects\n",
    "## Sunday No workshop"
   ]
  },
  {
   "cell_type": "code",
   "execution_count": 1,
   "id": "dc13d54e-b7ad-4765-9c68-09ffb89a1caf",
   "metadata": {},
   "outputs": [],
   "source": [
    "# Import the packages\n",
    "# read the data\n",
    "# convert into cat and num columns\n",
    "import numpy as np\n",
    "import pandas as pd\n",
    "import matplotlib.pyplot as plt\n",
    "import seaborn as sns\n",
    "\n",
    "visa_df=pd.read_csv('Visadataset.csv')\n",
    "\n",
    "cat_cols=visa_df.select_dtypes(include='object').columns\n",
    "num_cols=visa_df.select_dtypes(exclude='object').columns"
   ]
  },
  {
   "cell_type": "code",
   "execution_count": null,
   "id": "ed0f05d8-1204-44c1-be0d-b27a125501ad",
   "metadata": {},
   "outputs": [],
   "source": [
    "# We learned how to cretae a Frequency table with out method"
   ]
  },
  {
   "cell_type": "code",
   "execution_count": 2,
   "id": "a67805be-1d63-4fc6-8b03-fc1a5eecb2c1",
   "metadata": {},
   "outputs": [
    {
     "data": {
      "text/plain": [
       "continent\n",
       "Asia             16861\n",
       "Europe            3732\n",
       "North America     3292\n",
       "South America      852\n",
       "Africa             551\n",
       "Oceania            192\n",
       "Name: count, dtype: int64"
      ]
     },
     "execution_count": 2,
     "metadata": {},
     "output_type": "execute_result"
    }
   ],
   "source": [
    "visa_df['continent'].value_counts()\n",
    "# Series \n",
    "# when we convert series into dictionary key:value pair"
   ]
  },
  {
   "cell_type": "code",
   "execution_count": 5,
   "id": "0c702c58-c9fa-438b-a080-be6baa7f1466",
   "metadata": {},
   "outputs": [],
   "source": [
    "con_keys=visa_df['continent'].value_counts().keys()"
   ]
  },
  {
   "cell_type": "code",
   "execution_count": 6,
   "id": "854531db-43af-4854-9ef8-c260be636c0b",
   "metadata": {},
   "outputs": [],
   "source": [
    "cont_values=visa_df['continent'].value_counts().values"
   ]
  },
  {
   "cell_type": "code",
   "execution_count": 9,
   "id": "99d8601d-0f2d-47ae-a2ff-6fcd75a718ef",
   "metadata": {},
   "outputs": [
    {
     "data": {
      "text/html": [
       "<div>\n",
       "<style scoped>\n",
       "    .dataframe tbody tr th:only-of-type {\n",
       "        vertical-align: middle;\n",
       "    }\n",
       "\n",
       "    .dataframe tbody tr th {\n",
       "        vertical-align: top;\n",
       "    }\n",
       "\n",
       "    .dataframe thead th {\n",
       "        text-align: right;\n",
       "    }\n",
       "</style>\n",
       "<table border=\"1\" class=\"dataframe\">\n",
       "  <thead>\n",
       "    <tr style=\"text-align: right;\">\n",
       "      <th></th>\n",
       "      <th>Continent</th>\n",
       "      <th>Number of Applicants</th>\n",
       "    </tr>\n",
       "  </thead>\n",
       "  <tbody>\n",
       "    <tr>\n",
       "      <th>0</th>\n",
       "      <td>Asia</td>\n",
       "      <td>16861</td>\n",
       "    </tr>\n",
       "    <tr>\n",
       "      <th>1</th>\n",
       "      <td>Europe</td>\n",
       "      <td>3732</td>\n",
       "    </tr>\n",
       "    <tr>\n",
       "      <th>2</th>\n",
       "      <td>North America</td>\n",
       "      <td>3292</td>\n",
       "    </tr>\n",
       "    <tr>\n",
       "      <th>3</th>\n",
       "      <td>South America</td>\n",
       "      <td>852</td>\n",
       "    </tr>\n",
       "    <tr>\n",
       "      <th>4</th>\n",
       "      <td>Africa</td>\n",
       "      <td>551</td>\n",
       "    </tr>\n",
       "    <tr>\n",
       "      <th>5</th>\n",
       "      <td>Oceania</td>\n",
       "      <td>192</td>\n",
       "    </tr>\n",
       "  </tbody>\n",
       "</table>\n",
       "</div>"
      ],
      "text/plain": [
       "       Continent  Number of Applicants\n",
       "0           Asia                 16861\n",
       "1         Europe                  3732\n",
       "2  North America                  3292\n",
       "3  South America                   852\n",
       "4         Africa                   551\n",
       "5        Oceania                   192"
      ]
     },
     "execution_count": 9,
     "metadata": {},
     "output_type": "execute_result"
    }
   ],
   "source": [
    "cols=['Continent','Number of Applicants']\n",
    "cont_df1=pd.DataFrame(zip(con_keys,cont_values),\n",
    "                     columns=cols)\n",
    "cont_df1"
   ]
  },
  {
   "cell_type": "markdown",
   "id": "10a57abb-21af-4ec9-b3af-20f47d581d01",
   "metadata": {},
   "source": [
    "**Method-1-Value counts**"
   ]
  },
  {
   "cell_type": "code",
   "execution_count": 10,
   "id": "8bc33836-4107-4ed6-a756-dd7b62128089",
   "metadata": {},
   "outputs": [
    {
     "data": {
      "text/html": [
       "<div>\n",
       "<style scoped>\n",
       "    .dataframe tbody tr th:only-of-type {\n",
       "        vertical-align: middle;\n",
       "    }\n",
       "\n",
       "    .dataframe tbody tr th {\n",
       "        vertical-align: top;\n",
       "    }\n",
       "\n",
       "    .dataframe thead th {\n",
       "        text-align: right;\n",
       "    }\n",
       "</style>\n",
       "<table border=\"1\" class=\"dataframe\">\n",
       "  <thead>\n",
       "    <tr style=\"text-align: right;\">\n",
       "      <th></th>\n",
       "      <th>Continent</th>\n",
       "      <th>Number of Applicants</th>\n",
       "    </tr>\n",
       "  </thead>\n",
       "  <tbody>\n",
       "    <tr>\n",
       "      <th>0</th>\n",
       "      <td>Asia</td>\n",
       "      <td>16861</td>\n",
       "    </tr>\n",
       "    <tr>\n",
       "      <th>1</th>\n",
       "      <td>Europe</td>\n",
       "      <td>3732</td>\n",
       "    </tr>\n",
       "    <tr>\n",
       "      <th>2</th>\n",
       "      <td>North America</td>\n",
       "      <td>3292</td>\n",
       "    </tr>\n",
       "    <tr>\n",
       "      <th>3</th>\n",
       "      <td>South America</td>\n",
       "      <td>852</td>\n",
       "    </tr>\n",
       "    <tr>\n",
       "      <th>4</th>\n",
       "      <td>Africa</td>\n",
       "      <td>551</td>\n",
       "    </tr>\n",
       "    <tr>\n",
       "      <th>5</th>\n",
       "      <td>Oceania</td>\n",
       "      <td>192</td>\n",
       "    </tr>\n",
       "  </tbody>\n",
       "</table>\n",
       "</div>"
      ],
      "text/plain": [
       "       Continent  Number of Applicants\n",
       "0           Asia                 16861\n",
       "1         Europe                  3732\n",
       "2  North America                  3292\n",
       "3  South America                   852\n",
       "4         Africa                   551\n",
       "5        Oceania                   192"
      ]
     },
     "execution_count": 10,
     "metadata": {},
     "output_type": "execute_result"
    }
   ],
   "source": [
    "cont_data=visa_df['continent'].value_counts()\n",
    "con_keys=cont_data.keys()\n",
    "cont_values=cont_data.values\n",
    "cols=['Continent','Number of Applicants']\n",
    "cont_df1=pd.DataFrame(zip(con_keys,cont_values),\n",
    "                     columns=cols)\n",
    "cont_df1"
   ]
  },
  {
   "cell_type": "markdown",
   "id": "7b047684-9881-43cb-b478-92d3cc57820a",
   "metadata": {},
   "source": [
    "**Method-2:using forloop**"
   ]
  },
  {
   "cell_type": "code",
   "execution_count": 12,
   "id": "5b3413c0-bb95-46b9-9c2e-8b437abf4e42",
   "metadata": {},
   "outputs": [],
   "source": [
    "cont_lables=visa_df['continent'].unique()\n",
    "count=[]\n",
    "for i in cont_lables:\n",
    "    visa_df['continent']\n",
    "    con=visa_df['continent']==i\n",
    "    visa_df[con]\n",
    "    count.append(len(visa_df[con]))\n",
    "\n",
    "cont_df2=pd.DataFrame(zip(cont_lables,count),\n",
    "            columns=['Continent','Number of Applicants'])"
   ]
  },
  {
   "cell_type": "code",
   "execution_count": 13,
   "id": "c62ba33e-69ca-459d-a471-e2d2d61d7f5a",
   "metadata": {},
   "outputs": [],
   "source": [
    "cont_df1.to_csv('continent_info.csv',index=False)\n",
    "cont_df2.to_excel('continent_info.xlsx',index=False)"
   ]
  },
  {
   "cell_type": "code",
   "execution_count": null,
   "id": "e344f5cc-f6bc-4d1e-9715-be8251da5fe8",
   "metadata": {},
   "outputs": [],
   "source": [
    "# Unique will give : keys are in sorting order\n",
    "# Value counts give: values are in sorting order"
   ]
  },
  {
   "cell_type": "markdown",
   "id": "de39c2ed-be8e-48ec-aa8b-73b31a7e8365",
   "metadata": {},
   "source": [
    "**task-2**\n",
    "\n",
    "- Create all categorical columns frequency table using value_counts\n",
    "\n",
    "- Using python create one directory(folder) with the name **frequency table**\n",
    "\n",
    "- you need to iterate each column, but each column has different lables\n",
    "\n",
    "- provide one column name as **Lable**\n",
    "\n",
    "- another column name as **count**"
   ]
  },
  {
   "cell_type": "code",
   "execution_count": null,
   "id": "f2288d4e-1d73-4529-bb03-6b2f7dfb567c",
   "metadata": {},
   "outputs": [],
   "source": [
    "cont_data=visa_df['continent'].value_counts()\n",
    "con_keys=cont_data.keys()\n",
    "cont_values=cont_data.values\n",
    "cols=['Continent','Number of Applicants']\n",
    "cont_df1=pd.DataFrame(zip(con_keys,cont_values),\n",
    "                     columns=cols)\n",
    "cont_df1.to_csv('continent_info.csv',index=False)"
   ]
  },
  {
   "cell_type": "code",
   "execution_count": 18,
   "id": "fcb301c2-16f9-436e-bf44-f3490d3a1e5a",
   "metadata": {},
   "outputs": [
    {
     "name": "stdout",
     "output_type": "stream",
     "text": [
      "continent_info.csv\n",
      "education_of_employee_info.csv\n",
      "has_job_experience_info.csv\n",
      "requires_job_training_info.csv\n",
      "region_of_employment_info.csv\n",
      "unit_of_wage_info.csv\n",
      "full_time_position_info.csv\n",
      "case_status_info.csv\n"
     ]
    }
   ],
   "source": [
    "for i in cat_cols[1:]:\n",
    "    print(f'{i}_info.csv')"
   ]
  },
  {
   "cell_type": "code",
   "execution_count": 19,
   "id": "31e2a4f5-d53b-4f88-8ed9-5de09873499a",
   "metadata": {},
   "outputs": [
    {
     "name": "stdout",
     "output_type": "stream",
     "text": [
      "0\n",
      "1\n",
      "2\n",
      "3\n",
      "4\n",
      "5\n",
      "6\n",
      "7\n",
      "8\n",
      "9\n"
     ]
    }
   ],
   "source": [
    "for i in range(10):\n",
    "    print(i)"
   ]
  },
  {
   "cell_type": "code",
   "execution_count": 20,
   "id": "143a2fe3-4f20-40e4-a36c-ddaaec74dfb6",
   "metadata": {},
   "outputs": [
    {
     "data": {
      "text/plain": [
       "9"
      ]
     },
     "execution_count": 20,
     "metadata": {},
     "output_type": "execute_result"
    }
   ],
   "source": [
    "i"
   ]
  },
  {
   "cell_type": "markdown",
   "id": "2fd4a3b4-f3b8-493d-8937-2797d1796e4e",
   "metadata": {},
   "source": [
    "**Create a folder**\n",
    "\n",
    "- Step-1: get the current working directory\n",
    "\n",
    "- Step-2: what is your new folder name\n",
    "\n",
    "- Step-3: Join both\n",
    "\n",
    "- Step-4: Make the directory"
   ]
  },
  {
   "cell_type": "code",
   "execution_count": 25,
   "id": "3a68c68b-1447-442e-8695-d7f90aa45291",
   "metadata": {},
   "outputs": [
    {
     "name": "stdout",
     "output_type": "stream",
     "text": [
      "[WinError 183] Cannot create a file when that file already exists: 'C:\\\\Users\\\\omkar\\\\OneDrive\\\\Documents\\\\Data science\\\\Naresh IT\\\\Naresh IT\\\\Data science\\\\Batches\\\\Batch-9_June\\\\EDA\\\\frequency_table'\n"
     ]
    }
   ],
   "source": [
    "import os\n",
    "cwd=os.getcwd()\n",
    "folder_name='frequency_table'\n",
    "new_dir=os.path.join(cwd,folder_name)\n",
    "try:\n",
    "    os.makedirs(new_dir)\n",
    "except Exception as e:\n",
    "    print(e)"
   ]
  },
  {
   "cell_type": "code",
   "execution_count": 26,
   "id": "e7c89182-6243-4c47-ad1d-7fd640738adc",
   "metadata": {},
   "outputs": [
    {
     "data": {
      "text/plain": [
       "'C:\\\\Users\\\\omkar\\\\OneDrive\\\\Documents\\\\Data science\\\\Naresh IT\\\\Naresh IT\\\\Data science\\\\Batches\\\\Batch-9_June\\\\EDA\\\\frequency_table'"
      ]
     },
     "execution_count": 26,
     "metadata": {},
     "output_type": "execute_result"
    }
   ],
   "source": [
    "new_dir"
   ]
  },
  {
   "cell_type": "code",
   "execution_count": null,
   "id": "9a22497a-d789-44db-a365-965f7fca570e",
   "metadata": {},
   "outputs": [],
   "source": [
    "cont_data=visa_df['continent'].value_counts()\n",
    "con_keys=cont_data.keys()\n",
    "cont_values=cont_data.values\n",
    "cols=['Continent','Number of Applicants']\n",
    "cont_df1=pd.DataFrame(zip(con_keys,cont_values),\n",
    "                     columns=cols)\n",
    "cont_df1.to_csv('continent_info.csv',index=False)"
   ]
  },
  {
   "cell_type": "code",
   "execution_count": null,
   "id": "e39fbd68-638d-4148-9d14-bbeda800cf8d",
   "metadata": {},
   "outputs": [],
   "source": [
    "'C:\\\\Users\\\\omkar\\\\OneDrive\\\\Documents\\\\Data science\\\\Naresh IT\\\\Naresh IT\\\\Data science\\\\Batches\\\\Batch-9_June\\\\EDA\\\\frequency_table\\\\continent_info.csv'"
   ]
  },
  {
   "cell_type": "code",
   "execution_count": 28,
   "id": "e22102a0-43c6-43fa-aff2-6f6640c7afc8",
   "metadata": {},
   "outputs": [
    {
     "data": {
      "text/plain": [
       "'C:\\\\Users\\\\omkar\\\\OneDrive\\\\Documents\\\\Data science\\\\Naresh IT\\\\Naresh IT\\\\Data science\\\\Batches\\\\Batch-9_June\\\\EDA\\\\frequency_table\\\\continent_info.csv'"
      ]
     },
     "execution_count": 28,
     "metadata": {},
     "output_type": "execute_result"
    }
   ],
   "source": [
    "f\"{new_dir}'\\\\'{i}_info.csv'"
   ]
  },
  {
   "cell_type": "code",
   "execution_count": 31,
   "id": "a8ecf229-9212-4ac1-8b18-5041a8480bc2",
   "metadata": {},
   "outputs": [
    {
     "name": "stdout",
     "output_type": "stream",
     "text": [
      "C:\\Users\\omkar\\OneDrive\\Documents\\Data science\\Naresh IT\\Naresh IT\\Data science\\Batches\\Batch-9_June\\EDA\\frequency_table\\continent_info.csv\n",
      "C:\\Users\\omkar\\OneDrive\\Documents\\Data science\\Naresh IT\\Naresh IT\\Data science\\Batches\\Batch-9_June\\EDA\\frequency_table\\education_of_employee_info.csv\n",
      "C:\\Users\\omkar\\OneDrive\\Documents\\Data science\\Naresh IT\\Naresh IT\\Data science\\Batches\\Batch-9_June\\EDA\\frequency_table\\has_job_experience_info.csv\n",
      "C:\\Users\\omkar\\OneDrive\\Documents\\Data science\\Naresh IT\\Naresh IT\\Data science\\Batches\\Batch-9_June\\EDA\\frequency_table\\requires_job_training_info.csv\n",
      "C:\\Users\\omkar\\OneDrive\\Documents\\Data science\\Naresh IT\\Naresh IT\\Data science\\Batches\\Batch-9_June\\EDA\\frequency_table\\region_of_employment_info.csv\n",
      "C:\\Users\\omkar\\OneDrive\\Documents\\Data science\\Naresh IT\\Naresh IT\\Data science\\Batches\\Batch-9_June\\EDA\\frequency_table\\unit_of_wage_info.csv\n",
      "C:\\Users\\omkar\\OneDrive\\Documents\\Data science\\Naresh IT\\Naresh IT\\Data science\\Batches\\Batch-9_June\\EDA\\frequency_table\\full_time_position_info.csv\n",
      "C:\\Users\\omkar\\OneDrive\\Documents\\Data science\\Naresh IT\\Naresh IT\\Data science\\Batches\\Batch-9_June\\EDA\\frequency_table\\case_status_info.csv\n"
     ]
    }
   ],
   "source": [
    "for i in cat_cols[1:]:\n",
    "    print()"
   ]
  },
  {
   "cell_type": "code",
   "execution_count": 32,
   "id": "ee66827a-b717-4b83-9a03-96edd489d168",
   "metadata": {},
   "outputs": [],
   "source": [
    "### All together\n",
    "import os\n",
    "cwd=os.getcwd()\n",
    "folder_name='frequency_table'\n",
    "new_dir=os.path.join(cwd,folder_name)\n",
    "try:\n",
    "    os.makedirs(new_dir)\n",
    "except Exception as e:\n",
    "    print(e)\n",
    "########################################################\n",
    "for i in cat_cols[1:]:\n",
    "    data=visa_df[i].value_counts()\n",
    "    keys=data.keys()\n",
    "    values=data.values\n",
    "    cols=['Lable','Count']\n",
    "    df1=pd.DataFrame(zip(keys,values),\n",
    "                         columns=cols)\n",
    "    df1.to_csv(f'{new_dir}\\\\{i}_info.csv',index=False)"
   ]
  },
  {
   "cell_type": "code",
   "execution_count": 34,
   "id": "f7e474b6-eb84-417e-a95a-3a15cb41dac5",
   "metadata": {},
   "outputs": [
    {
     "name": "stdout",
     "output_type": "stream",
     "text": [
      "continent.csv\n",
      "education_of_employee.csv\n",
      "has_job_experience.csv\n",
      "requires_job_training.csv\n",
      "region_of_employment.csv\n",
      "unit_of_wage.csv\n",
      "full_time_position.csv\n",
      "case_status.csv\n"
     ]
    }
   ],
   "source": [
    "for i in cat_cols[1:]:\n",
    "    print(f\"{i}.csv\")"
   ]
  },
  {
   "cell_type": "code",
   "execution_count": 36,
   "id": "06729d9e-dccf-40cf-9817-1d7ecd7afcee",
   "metadata": {},
   "outputs": [
    {
     "name": "stdout",
     "output_type": "stream",
     "text": [
      "C:\\Users\\omkar\\OneDrive\\Documents\\Data science\\Naresh IT\\Naresh IT\\Data science\\Batches\\Batch-9_June\\EDA\\frequency_table\\continent.csv\n",
      "C:\\Users\\omkar\\OneDrive\\Documents\\Data science\\Naresh IT\\Naresh IT\\Data science\\Batches\\Batch-9_June\\EDA\\frequency_table\\education_of_employee.csv\n",
      "C:\\Users\\omkar\\OneDrive\\Documents\\Data science\\Naresh IT\\Naresh IT\\Data science\\Batches\\Batch-9_June\\EDA\\frequency_table\\has_job_experience.csv\n",
      "C:\\Users\\omkar\\OneDrive\\Documents\\Data science\\Naresh IT\\Naresh IT\\Data science\\Batches\\Batch-9_June\\EDA\\frequency_table\\requires_job_training.csv\n",
      "C:\\Users\\omkar\\OneDrive\\Documents\\Data science\\Naresh IT\\Naresh IT\\Data science\\Batches\\Batch-9_June\\EDA\\frequency_table\\region_of_employment.csv\n",
      "C:\\Users\\omkar\\OneDrive\\Documents\\Data science\\Naresh IT\\Naresh IT\\Data science\\Batches\\Batch-9_June\\EDA\\frequency_table\\unit_of_wage.csv\n",
      "C:\\Users\\omkar\\OneDrive\\Documents\\Data science\\Naresh IT\\Naresh IT\\Data science\\Batches\\Batch-9_June\\EDA\\frequency_table\\full_time_position.csv\n",
      "C:\\Users\\omkar\\OneDrive\\Documents\\Data science\\Naresh IT\\Naresh IT\\Data science\\Batches\\Batch-9_June\\EDA\\frequency_table\\case_status.csv\n"
     ]
    }
   ],
   "source": [
    "for i in cat_cols[1:]:\n",
    "    print(new_dir+'\\\\'+i+'.csv')\n",
    "    print(f\"{new_dir}\\\\{i}.csv\")"
   ]
  },
  {
   "cell_type": "code",
   "execution_count": 1,
   "id": "8bca1238-5b89-4713-a1f8-99aa03ad5e01",
   "metadata": {},
   "outputs": [],
   "source": [
    "# Import the packages\n",
    "# Read the data\n",
    "# cat and numerical columns\n",
    "import numpy as np\n",
    "import pandas as pd\n",
    "import matplotlib.pyplot as plt\n",
    "import seaborn as sns\n",
    "\n",
    "visa_df=pd.read_csv('Visadataset.csv')\n",
    "\n",
    "cat_cols=visa_df.select_dtypes(include='object').columns\n",
    "num_cols=visa_df.select_dtypes(exclude='object').columns"
   ]
  },
  {
   "cell_type": "code",
   "execution_count": null,
   "id": "3ea36f92-78a3-48d3-b1da-a83236f89b16",
   "metadata": {},
   "outputs": [],
   "source": [
    "# Frequency table\n",
    "# we have two methods\n",
    "# method-1: using unique and for loop\n",
    "# method-2: using value counts(method)\n",
    "cont_data=visa_df['continent'].value_counts()\n",
    "con_keys=cont_data.keys()\n",
    "cont_values=cont_data.values\n",
    "cols=['Continent','Number of Applicants']\n",
    "cont_df1=pd.DataFrame(zip(con_keys,cont_values),\n",
    "                     columns=cols)\n",
    "cont_df1\n",
    "\n",
    "# the above task we need to repeat for all cat columns\n",
    "# but in that we are avoiding case id: many unique value\n",
    "# the above line has total 6 lines to apply all 8 columns= 48 lines\n",
    "# we need to make generalised code "
   ]
  },
  {
   "cell_type": "code",
   "execution_count": 10,
   "id": "a6a5144f-570c-4f07-be0e-26bb62b33c8f",
   "metadata": {},
   "outputs": [],
   "source": [
    "import os\n",
    "folder='frequency_table_2'\n",
    "new_dir=os.path.join(os.getcwd(),folder)\n",
    "os.makedirs(new_dir)"
   ]
  },
  {
   "cell_type": "code",
   "execution_count": 11,
   "id": "0fcff608-baa9-472f-aa6f-ab0999bd0f19",
   "metadata": {},
   "outputs": [
    {
     "name": "stdout",
     "output_type": "stream",
     "text": [
      "C:\\Users\\omkar\\OneDrive\\Documents\\Data science\\Naresh IT\\Naresh IT\\Data science\\Batches\\Batch-9_June\\EDAfrequency_table_2\\continent.csv\n",
      "C:\\Users\\omkar\\OneDrive\\Documents\\Data science\\Naresh IT\\Naresh IT\\Data science\\Batches\\Batch-9_June\\EDAfrequency_table_2\\education_of_employee.csv\n",
      "C:\\Users\\omkar\\OneDrive\\Documents\\Data science\\Naresh IT\\Naresh IT\\Data science\\Batches\\Batch-9_June\\EDAfrequency_table_2\\has_job_experience.csv\n",
      "C:\\Users\\omkar\\OneDrive\\Documents\\Data science\\Naresh IT\\Naresh IT\\Data science\\Batches\\Batch-9_June\\EDAfrequency_table_2\\requires_job_training.csv\n",
      "C:\\Users\\omkar\\OneDrive\\Documents\\Data science\\Naresh IT\\Naresh IT\\Data science\\Batches\\Batch-9_June\\EDAfrequency_table_2\\region_of_employment.csv\n",
      "C:\\Users\\omkar\\OneDrive\\Documents\\Data science\\Naresh IT\\Naresh IT\\Data science\\Batches\\Batch-9_June\\EDAfrequency_table_2\\unit_of_wage.csv\n",
      "C:\\Users\\omkar\\OneDrive\\Documents\\Data science\\Naresh IT\\Naresh IT\\Data science\\Batches\\Batch-9_June\\EDAfrequency_table_2\\full_time_position.csv\n",
      "C:\\Users\\omkar\\OneDrive\\Documents\\Data science\\Naresh IT\\Naresh IT\\Data science\\Batches\\Batch-9_June\\EDAfrequency_table_2\\case_status.csv\n"
     ]
    }
   ],
   "source": [
    "for i in cat_cols[1:]:\n",
    "    print(f\"{new_dir}\\{i}.csv\")"
   ]
  },
  {
   "cell_type": "code",
   "execution_count": 13,
   "id": "d658cdc5-cde3-41bf-9fd7-0d1fc833cb36",
   "metadata": {},
   "outputs": [],
   "source": [
    "for i in cat_cols[1:]:\n",
    "    data=visa_df[i].value_counts()\n",
    "    keys=data.keys()\n",
    "    values=data.values\n",
    "    cols=['Lables','Count']\n",
    "    df1=pd.DataFrame(zip(keys,values),\n",
    "                         columns=cols)\n",
    "    df1.to_csv(f'{new_dir}\\{i}_frequency_table.csv')"
   ]
  },
  {
   "cell_type": "code",
   "execution_count": null,
   "id": "bd3d6f5e-97c0-44ed-80eb-a87e8b007cb7",
   "metadata": {},
   "outputs": [],
   "source": []
  }
 ],
 "metadata": {
  "kernelspec": {
   "display_name": "Python 3 (ipykernel)",
   "language": "python",
   "name": "python3"
  },
  "language_info": {
   "codemirror_mode": {
    "name": "ipython",
    "version": 3
   },
   "file_extension": ".py",
   "mimetype": "text/x-python",
   "name": "python",
   "nbconvert_exporter": "python",
   "pygments_lexer": "ipython3",
   "version": "3.11.7"
  }
 },
 "nbformat": 4,
 "nbformat_minor": 5
}
